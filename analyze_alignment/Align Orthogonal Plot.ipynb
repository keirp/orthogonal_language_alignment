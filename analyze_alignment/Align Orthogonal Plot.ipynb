{
 "cells": [
  {
   "cell_type": "code",
   "execution_count": 130,
   "metadata": {},
   "outputs": [],
   "source": [
    "# coding: utf-8\n",
    "# Copyright (c) 2018 - Present Bill Thompson (billdthompson@berkeley.edu)  \n",
    "\n",
    "import numpy as np\n",
    "import pandas as pd\n",
    "import wordfreq as wf\n",
    "import editdistance as ed\n",
    "from scipy.stats import pearsonr\n",
    "import click\n",
    "import scipy\n",
    "import matplotlib.pyplot as plt\n",
    "\n",
    "import torch\n",
    "from torch import nn\n",
    "import torch.optim as optim\n",
    "\n",
    "import os\n",
    "from tqdm import tqdm\n",
    "from sklearn.decomposition import PCA\n",
    "\n",
    "os.environ['KMP_DUPLICATE_LIB_OK']='True'\n",
    "\n",
    "import logging\n",
    "logging.basicConfig(format='%(levelname)s > %(message)s', level=logging.INFO)\n",
    "\n",
    "AL = wf.available_languages()\n",
    "\n",
    "def vectors(v):\n",
    "    return pd.read_csv(v, header = None).values\n",
    "\n",
    "def run(vectorfile1, vectorfile2, l1, l2, wordlistfile):\n",
    "    wordlist = pd.read_csv(wordlistfile)\n",
    "\n",
    "    A = np.array(vectors(vectorfile1))\n",
    "    B = np.array(vectors(vectorfile2))\n",
    "    \n",
    "    pca = PCA(n_components=2)\n",
    "    pca.fit(np.concatenate((A, B), axis=0))\n",
    "    \n",
    "    A = pca.transform(A)\n",
    "    B = pca.transform(B)\n",
    "\n",
    "    A = A / np.linalg.norm(A, axis=1, keepdims=True)\n",
    "    B = B / np.linalg.norm(B, axis=1, keepdims=True)\n",
    "    \n",
    "    A = A[idxs]\n",
    "    B = B[idxs]\n",
    "\n",
    "    # A = (A - A_mean) / A_std\n",
    "    # B = (B - B_mean) / B_std  \n",
    "\n",
    "    M = B.T @ A\n",
    "    U, S, VT = scipy.linalg.svd(M)\n",
    "\n",
    "    W = U @ VT\n",
    "\n",
    "\n",
    "    proj_A = A @ W.T\n",
    "\n",
    "    # aligner = get_alignment(A, B, n_iter=50000)\n",
    "    # proj_A = aligner(A)\n",
    "\n",
    "    errors = -((proj_A - B) ** 2).mean(axis=-1)\n",
    "\n",
    "    return A, B, W, proj_A, wordlist, errors"
   ]
  },
  {
   "cell_type": "code",
   "execution_count": 166,
   "metadata": {},
   "outputs": [
    {
     "name": "stdout",
     "output_type": "stream",
     "text": [
      "-0.08990790869293087\n",
      "-0.04967251051740198\n",
      "-0.047858029224084775\n",
      "-0.05489605131701677\n",
      "-0.12282337953946383\n",
      "-0.07544329930333428\n",
      "-0.06624340038231122\n",
      "-0.1755014950477024\n",
      "-0.1242275181936052\n",
      "-0.08662837463119875\n",
      "-0.12922906976379805\n",
      "-0.06852398683532009\n",
      "-0.10643482379537868\n",
      "-0.0516016862655686\n",
      "-0.09402643483528585\n",
      "-0.11338213045937051\n",
      "-0.12777094479925502\n",
      "-0.06548078907060897\n",
      "-0.028225039544659936\n",
      "-0.07801129814245851\n",
      "-0.04630163275632395\n",
      "-0.07453707884454548\n",
      "-0.056537953491289906\n",
      "-0.12689127964016747\n",
      "-0.06902662652277931\n",
      "-0.14176436105295182\n",
      "-0.06334687443808318\n",
      "-0.11441415528171814\n",
      "-0.09074955795898956\n",
      "-0.09318096955706873\n",
      "-0.2053032424512713\n",
      "-0.059005908600340065\n",
      "-0.07390365237967607\n",
      "-0.05511513528277255\n",
      "-0.038677766054534456\n",
      "-0.07517689457952487\n",
      "-0.06333954988283733\n",
      "-0.0945580277837413\n",
      "-0.07598214962083315\n",
      "-0.08531130155147111\n",
      "-0.05813023702457789\n",
      "-0.0908361814842835\n",
      "-0.0184878133425858\n"
     ]
    }
   ],
   "source": [
    "vectorfile1 = '../compute-alignment/en-es.v1'\n",
    "vectorfile2 = '../compute-alignment/en-es.v2'\n",
    "l1 = 'en'\n",
    "l2 = 'es'\n",
    "wordlistfile = '../compute-alignment/en-es.wordlist'\n",
    "\n",
    "errors = None\n",
    "while errors is None or -errors.mean() > 0.02:\n",
    "    idxs = np.random.randint(len(wordlist), size=n_words)\n",
    "\n",
    "    A, B, W, proj_A, wordlist, errors = run(vectorfile1, vectorfile2, l1, l2, wordlistfile)\n",
    "    print(errors.mean())"
   ]
  },
  {
   "cell_type": "code",
   "execution_count": 167,
   "metadata": {},
   "outputs": [
    {
     "name": "stdout",
     "output_type": "stream",
     "text": [
      "['thou' 'glass' 'meaning' 'track' 'full']\n"
     ]
    }
   ],
   "source": [
    "# min_idx, min_error = None, None\n",
    "n_words = 5\n",
    "\n",
    "# for i in range(len(wordlist)):\n",
    "#     mean_error = errors[i:i+n_words].mean()\n",
    "#     if min_idx is None or mean_error < min_error:\n",
    "#         min_idx = i\n",
    "#         min_error = mean_error\n",
    "# idxs = range(min_idx, min_idx + n_words)\n",
    "\n",
    "words_en = wordlist['en'].to_numpy()[idxs]\n",
    "words_es = wordlist['es'].to_numpy()[idxs]\n",
    "print(words_en)"
   ]
  },
  {
   "cell_type": "code",
   "execution_count": 168,
   "metadata": {},
   "outputs": [],
   "source": [
    "def get_bounding(pts):\n",
    "    min_corner = pts[:, 0].min(), pts[:, 1].min()\n",
    "    max_corner = pts[:, 0].max(), pts[:, 1].max()\n",
    "    coords =  [[min_corner[0], min_corner[1]],\n",
    "            [min_corner[0], max_corner[1]],\n",
    "            [max_corner[0], max_corner[1]],\n",
    "            [max_corner[0], min_corner[1]],\n",
    "            [min_corner[0], min_corner[1]]]\n",
    "    return zip(*coords)"
   ]
  },
  {
   "cell_type": "code",
   "execution_count": 169,
   "metadata": {},
   "outputs": [],
   "source": [
    "A_t = A\n",
    "B_t = B\n",
    "pA_t = proj_A"
   ]
  },
  {
   "cell_type": "code",
   "execution_count": 185,
   "metadata": {},
   "outputs": [
    {
     "data": {
      "image/png": "[encoded data removed]",
      "text/plain": [
       "<Figure size 360x360 with 1 Axes>"
      ]
     },
     "metadata": {
      "needs_background": "light"
     },
     "output_type": "display_data"
    }
   ],
   "source": [
    "fig, ax = plt.subplots(figsize=(5, 5))\n",
    "ax.scatter(A_t[:, 0], A_t[:, 1], label='English')\n",
    "ax.scatter(B_t[:, 0], B_t[:, 1], label='Spanish')\n",
    "# ax.scatter(pA_t[idxs, 0], pA_t[idxs, 1], label='Transformed English')\n",
    "plt.xlim([-1.1, 1.1])\n",
    "plt.ylim([-1.1, 1.1])\n",
    "draw_circle = plt.Circle((0, 0), 1, fill=False)\n",
    "ax.add_artist(draw_circle)\n",
    "for i in range(n_words):\n",
    "    ax.annotate(words_en[i], (A_t[:, 0][i], A_t[:, 1][i]))\n",
    "    ax.annotate(words_es[i], (B_t[:, 0][i], B_t[:, 1][i]))\n",
    "# plt.plot(*get_bounding(A_t[idxs]))\n",
    "plt.axis('off')\n",
    "plt.savefig('words_embed.pdf')\n",
    "plt.savefig('words_embed.png')"
   ]
  },
  {
   "cell_type": "code",
   "execution_count": 186,
   "metadata": {},
   "outputs": [
    {
     "data": {
      "image/png": "[encoded data removed]",
      "text/plain": [
       "<Figure size 360x360 with 1 Axes>"
      ]
     },
     "metadata": {
      "needs_background": "light"
     },
     "output_type": "display_data"
    }
   ],
   "source": [
    "fig, ax = plt.subplots(figsize=(5, 5))\n",
    "# ax.scatter(A_t[idxs, 0], A_t[idxs, 1], label='Transformed English')\n",
    "ax.scatter(pA_t[:, 0], pA_t[:, 1], label='Transformed English')\n",
    "\n",
    "ax.scatter(B_t[:, 0], B_t[:, 1], label='Spanish')\n",
    "plt.xlim([0.6, 1.1])\n",
    "# plt.ylim([-1.1, 1.1])\n",
    "draw_circle = plt.Circle((0, 0), 1, fill=False)\n",
    "ax.add_artist(draw_circle)\n",
    "for i in range(n_words):\n",
    "    ax.annotate(words_en[i], (pA_t[:, 0][i], pA_t[:, 1][i]))\n",
    "    ax.annotate(words_es[i], (B_t[:, 0][i], B_t[:, 1][i]))\n",
    "# plt.plot(*get_bounding(A_t[idxs]))\n",
    "plt.axis('off')\n",
    "plt.savefig('words_embed_transformed.pdf')\n",
    "plt.savefig('words_embed_transformed.png')"
   ]
  },
  {
   "cell_type": "code",
   "execution_count": 173,
   "metadata": {},
   "outputs": [
    {
     "data": {
      "text/plain": [
       "array([716, 206, 246, 198, 584])"
      ]
     },
     "execution_count": 173,
     "metadata": {},
     "output_type": "execute_result"
    }
   ],
   "source": [
    "idxs"
   ]
  },
  {
   "cell_type": "code",
   "execution_count": null,
   "metadata": {},
   "outputs": [],
   "source": []
  }
 ],
 "metadata": {
  "kernelspec": {
   "display_name": "Python 3",
   "language": "python",
   "name": "python3"
  },
  "language_info": {
   "codemirror_mode": {
    "name": "ipython",
    "version": 3
   },
   "file_extension": ".py",
   "mimetype": "text/x-python",
   "name": "python",
   "nbconvert_exporter": "python",
   "pygments_lexer": "ipython3",
   "version": "3.7.4"
  }
 },
 "nbformat": 4,
 "nbformat_minor": 2
}
